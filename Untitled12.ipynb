{
  "nbformat": 4,
  "nbformat_minor": 0,
  "metadata": {
    "colab": {
      "name": "Untitled12.ipynb",
      "version": "0.3.2",
      "provenance": [],
      "include_colab_link": true
    },
    "kernelspec": {
      "name": "python3",
      "display_name": "Python 3"
    }
  },
  "cells": [
    {
      "cell_type": "markdown",
      "metadata": {
        "id": "view-in-github",
        "colab_type": "text"
      },
      "source": [
        "<a href=\"https://colab.research.google.com/github/anassboussarhan/stradigistock/blob/1/Untitled12.ipynb\" target=\"_parent\"><img src=\"https://colab.research.google.com/assets/colab-badge.svg\" alt=\"Open In Colab\"/></a>"
      ]
    },
    {
      "metadata": {
        "id": "2O_Dwc8gvs3z",
        "colab_type": "code",
        "outputId": "cf6d33fd-ab29-4a15-e5e6-f52a7c0ad365",
        "colab": {
          "base_uri": "https://localhost:8080/",
          "height": 122
        }
      },
      "cell_type": "code",
      "source": [
        "from pandas_datareader import data as dreader\n",
        "import tweepy\n",
        "import nltk\n",
        "import numpy as np\n",
        "import pandas as pd\n",
        "nltk.download('vader_lexicon')\n",
        "from nltk.sentiment.vader import SentimentIntensityAnalyzer\n",
        "from sklearn.model_selection import train_test_split\n",
        "import matplotlib.pyplot as plt\n",
        "from statsmodels.tsa.stattools import adfuller\n",
        "from sklearn.metrics import r2_score, median_absolute_error, mean_absolute_error\n",
        "from sklearn.metrics import median_absolute_error, mean_squared_error, mean_squared_log_error\n",
        "import statsmodels.tsa.api as smt\n",
        "import statsmodels as tsm\n",
        "from statsmodels.graphics.tsaplots import plot_acf\n",
        "from statsmodels.graphics.tsaplots import plot_pacf\n",
        "\n",
        "consumer_key= 'CONSUMER_KEY_HERE'\n",
        "consumer_secret= 'CONSUMER_SECRET_HERE'\n",
        "access_token='ACCESS_TOKEN_HERE'\n",
        "access_token_secret='ACCESS_TOKEN_SECRET_HERE'\n",
        "auth = tweepy.OAuthHandler(consumer_key, consumer_secret)\n",
        "auth.set_access_token(access_token, access_token_secret)\n",
        "\n",
        "api = tweepy.API(auth)\n",
        "symbol = 'AAPL'\n",
        "\n",
        "Data = dreader.DataReader(symbol,'yahoo','2012-01-30','2019-01-30') \n",
        "#tweets = api.search(symbol)"
      ],
      "execution_count": 1,
      "outputs": [
        {
          "output_type": "stream",
          "text": [
            "[nltk_data] Downloading package vader_lexicon to /root/nltk_data...\n"
          ],
          "name": "stdout"
        },
        {
          "output_type": "stream",
          "text": [
            "/usr/local/lib/python3.6/dist-packages/nltk/twitter/__init__.py:20: UserWarning: The twython library has not been installed. Some functionality from the twitter package will not be available.\n",
            "  warnings.warn(\"The twython library has not been installed. \"\n",
            "/usr/local/lib/python3.6/dist-packages/statsmodels/compat/pandas.py:56: FutureWarning: The pandas.core.datetools module is deprecated and will be removed in a future version. Please use the pandas.tseries module instead.\n",
            "  from pandas.core import datetools\n"
          ],
          "name": "stderr"
        }
      ]
    },
    {
      "metadata": {
        "id": "ZGIAYps4zYht",
        "colab_type": "text"
      },
      "cell_type": "markdown",
      "source": [
        ""
      ]
    },
    {
      "metadata": {
        "id": "VorhVrSBwU4x",
        "colab_type": "code",
        "outputId": "2a6935b7-6402-46ac-fa33-6e766b24e29c",
        "colab": {
          "base_uri": "https://localhost:8080/",
          "height": 358
        }
      },
      "cell_type": "code",
      "source": [
        "Data['Close'].plot()\n",
        "Data.shape"
      ],
      "execution_count": 2,
      "outputs": [
        {
          "output_type": "execute_result",
          "data": {
            "text/plain": [
              "(1762, 6)"
            ]
          },
          "metadata": {
            "tags": []
          },
          "execution_count": 2
        },
        {
          "output_type": "display_data",
          "data": {
            "image/png": "[encoded data removed]",
            "text/plain": [
              "<Figure size 576x396 with 1 Axes>"
            ]
          },
          "metadata": {
            "tags": []
          }
        }
      ]
    },
    {
      "metadata": {
        "id": "FX0gcRn91-JY",
        "colab_type": "text"
      },
      "cell_type": "markdown",
      "source": [
        "Filling sentiment scores with random data ,  transforming the closing prices to test for stationnarity , and subsetting the data set into a training data set on which the models would be trained and a testing to test for the models accuracy\n"
      ]
    },
    {
      "metadata": {
        "id": "IM0Iahc7RrNd",
        "colab_type": "code",
        "colab": {}
      },
      "cell_type": "code",
      "source": [
        "\n",
        "sentiment=np.random.uniform(low=-1,high=1,size=1762)\n",
        "prices=pd.DataFrame(Data['Close'],index=Data.index)\n",
        "c= pd.DataFrame(sentiment,columns=['sentiment'],index=Data.index)\n",
        "Data=prices.merge(c,how='outer', left_index=True, right_index=True)\n",
        "Data['Close2']=Data['Close'] - Data['Close'].shift(2)\n",
        "Data['Close3']=np.log(Data['Close']) - np.log(Data['Close'].shift(1))\n",
        "Data['Close2'].fillna(method=\"bfill\",inplace=True)\n",
        "Data['Close3'].fillna(method=\"bfill\",inplace=True)\n",
        "Datatrain=Data[1:1410]\n",
        "Datatest=Data[1411:1762]"
      ],
      "execution_count": 0,
      "outputs": []
    },
    {
      "metadata": {
        "id": "qbL97TSv19EH",
        "colab_type": "code",
        "outputId": "0bd76d5f-e59b-4c0c-9d38-69a28d4dd7d7",
        "colab": {
          "base_uri": "https://localhost:8080/",
          "height": 34
        }
      },
      "cell_type": "code",
      "source": [
        "\n",
        "Datatest.shape"
      ],
      "execution_count": 11,
      "outputs": [
        {
          "output_type": "execute_result",
          "data": {
            "text/plain": [
              "(351, 4)"
            ]
          },
          "metadata": {
            "tags": []
          },
          "execution_count": 11
        }
      ]
    },
    {
      "metadata": {
        "id": "SJy1-d6r02X5",
        "colab_type": "text"
      },
      "cell_type": "markdown",
      "source": [
        "Alternative :Using tweepy to extract tweets related to the stcok , and using Vader to get the polarity score from the data"
      ]
    },
    {
      "metadata": {
        "id": "9OdyYl7i07iA",
        "colab_type": "code",
        "colab": {}
      },
      "cell_type": "code",
      "source": [
        "#tweets =[]\n",
        "#list = []\n",
        "\n",
        "#for index, row in data.iterrows():\n",
        "  #ss = sid.polarity_scores(row[\"Tweets\"])\n",
        "  #list.append(ss)\n",
        "  \n",
        "#se = pd.Series(list)\n",
        "\n",
        "#display(se.head(100))"
      ],
      "execution_count": 0,
      "outputs": []
    },
    {
      "metadata": {
        "id": "OhUsjyQG9K8j",
        "colab_type": "code",
        "outputId": "35df2831-384b-4dee-f0d9-a0c8f9c83c9d",
        "colab": {
          "base_uri": "https://localhost:8080/",
          "height": 358
        }
      },
      "cell_type": "code",
      "source": [
        "Data.plot()"
      ],
      "execution_count": 6,
      "outputs": [
        {
          "output_type": "execute_result",
          "data": {
            "text/plain": [
              "<matplotlib.axes._subplots.AxesSubplot at 0x7f4a7e9fd6d8>"
            ]
          },
          "metadata": {
            "tags": []
          },
          "execution_count": 6
        },
        {
          "output_type": "display_data",
          "data": {
            "image/png": "[encoded data removed]",
            "text/plain": [
              "<Figure size 576x396 with 1 Axes>"
            ]
          },
          "metadata": {
            "tags": []
          }
        }
      ]
    },
    {
      "metadata": {
        "id": "SneMKuHJyxgY",
        "colab_type": "text"
      },
      "cell_type": "markdown",
      "source": [
        "Performing the Dicky fuller test to check for the stationnarity of the differenciated closing price time serie (after checking on the original time serie ) , and the granger causality test"
      ]
    },
    {
      "metadata": {
        "id": "Wee4ctdJv1IT",
        "colab_type": "code",
        "outputId": "35de165f-bf52-4268-e8d6-c86198b430e9",
        "colab": {
          "base_uri": "https://localhost:8080/",
          "height": 547
        }
      },
      "cell_type": "code",
      "source": [
        "#Perform Dickey-Fuller test:\n",
        "print ('Results of Dickey-Fuller Test:')\n",
        "dftest = adfuller(Data['Close2'], autolag='AIC')\n",
        "dfoutput = pd.Series(dftest[0:4], index=['Test Statistic','p-value','#Lags Used','Number of Observations Used'])\n",
        "for key,value in dftest[4].items():\n",
        "  dfoutput['Critical Value (%s)'%key] = value\n",
        "  print (dfoutput)\n",
        "\n",
        "print(tsm.tsa.stattools.grangercausalitytests(Data[['sentiment','Close2']].dropna(),1))\n"
      ],
      "execution_count": 7,
      "outputs": [
        {
          "output_type": "stream",
          "text": [
            "Results of Dickey-Fuller Test:\n",
            "Test Statistic                -7.343738e+00\n",
            "p-value                        1.048737e-10\n",
            "#Lags Used                     2.500000e+01\n",
            "Number of Observations Used    1.736000e+03\n",
            "Critical Value (1%)           -3.434122e+00\n",
            "dtype: float64\n",
            "Test Statistic                -7.343738e+00\n",
            "p-value                        1.048737e-10\n",
            "#Lags Used                     2.500000e+01\n",
            "Number of Observations Used    1.736000e+03\n",
            "Critical Value (1%)           -3.434122e+00\n",
            "Critical Value (5%)           -2.863206e+00\n",
            "dtype: float64\n",
            "Test Statistic                -7.343738e+00\n",
            "p-value                        1.048737e-10\n",
            "#Lags Used                     2.500000e+01\n",
            "Number of Observations Used    1.736000e+03\n",
            "Critical Value (1%)           -3.434122e+00\n",
            "Critical Value (5%)           -2.863206e+00\n",
            "Critical Value (10%)          -2.567657e+00\n",
            "dtype: float64\n",
            "\n",
            "Granger Causality\n",
            "number of lags (no zero) 1\n",
            "ssr based F test:         F=1.4985  , p=0.2211  , df_denom=1758, df_num=1\n",
            "ssr based chi2 test:   chi2=1.5011  , p=0.2205  , df=1\n",
            "likelihood ratio test: chi2=1.5005  , p=0.2206  , df=1\n",
            "parameter F test:         F=1.4985  , p=0.2211  , df_denom=1758, df_num=1\n",
            "{1: ({'ssr_ftest': (1.4985334735984817, 0.22106117418006024, 1758.0, 1), 'ssr_chi2test': (1.5010906979561585, 0.2205036164733693, 1), 'lrtest': (1.5004512903387877, 0.22060193658976635, 1), 'params_ftest': (1.498533473598528, 0.22106117417999402, 1758.0, 1)}, [<statsmodels.regression.linear_model.RegressionResultsWrapper object at 0x7f4a7e968908>, <statsmodels.regression.linear_model.RegressionResultsWrapper object at 0x7f4a7e968160>, array([[0., 1., 0.]])])}\n"
          ],
          "name": "stdout"
        }
      ]
    },
    {
      "metadata": {
        "id": "bfMfAt36P7ro",
        "colab_type": "code",
        "outputId": "7a1fdf0b-9eae-48ff-de03-cef239ed6189",
        "colab": {
          "base_uri": "https://localhost:8080/",
          "height": 1052
        }
      },
      "cell_type": "code",
      "source": [
        "plot_pacf(Data[\"Close2\"], lags=10)\n",
        "plot_acf(Data[\"Close2\"],lags=10)"
      ],
      "execution_count": 8,
      "outputs": [
        {
          "output_type": "execute_result",
          "data": {
            "image/png": "[encoded data removed]",
            "text/plain": [
              "<Figure size 576x396 with 1 Axes>"
            ]
          },
          "metadata": {
            "tags": []
          },
          "execution_count": 8
        },
        {
          "output_type": "display_data",
          "data": {
            "image/png": "[encoded data removed]",
            "text/plain": [
              "<Figure size 576x396 with 1 Axes>"
            ]
          },
          "metadata": {
            "tags": []
          }
        },
        {
          "output_type": "display_data",
          "data": {
            "image/png": "[encoded data removed]",
            "text/plain": [
              "<Figure size 576x396 with 1 Axes>"
            ]
          },
          "metadata": {
            "tags": []
          }
        }
      ]
    },
    {
      "metadata": {
        "id": "Y99ZSH09ze1H",
        "colab_type": "code",
        "colab": {
          "base_uri": "https://localhost:8080/",
          "height": 547
        },
        "outputId": "136f0916-c814-44de-be65-b616644b3ee2"
      },
      "cell_type": "code",
      "source": [
        "from statsmodels.tsa.arima_model import ARIMA\n",
        "model=ARIMA(endog=Datatrain['Close2'],exog=Datatrain['sentiment'],order=[1,0,1])\n",
        "results3=model.fit()\n",
        "print(results3.summary())\n",
        "Predictions=results3.predict(start=2,end=350,exog=Datatest[\"sentiment\"])\n",
        "Predictions\n",
        "error=mean_squared_error(Predictions, Datatest['Close2'][2:351])\n",
        "error"
      ],
      "execution_count": 27,
      "outputs": [
        {
          "output_type": "stream",
          "text": [
            "/usr/local/lib/python3.6/dist-packages/statsmodels/tsa/kalmanf/kalmanfilter.py:646: FutureWarning: Conversion of the second argument of issubdtype from `float` to `np.floating` is deprecated. In future, it will be treated as `np.float64 == np.dtype(float).type`.\n",
            "  if issubdtype(paramsdtype, float):\n"
          ],
          "name": "stderr"
        },
        {
          "output_type": "stream",
          "text": [
            "                              ARMA Model Results                              \n",
            "==============================================================================\n",
            "Dep. Variable:                 Close2   No. Observations:                 1409\n",
            "Model:                     ARMA(1, 1)   Log Likelihood               -2602.643\n",
            "Method:                       css-mle   S.D. of innovations              1.531\n",
            "Date:                Mon, 25 Feb 2019   AIC                           5215.286\n",
            "Time:                        18:12:33   BIC                           5241.539\n",
            "Sample:                    01-31-2012   HQIC                          5225.096\n",
            "                         - 09-05-2017                                         \n",
            "================================================================================\n",
            "                   coef    std err          z      P>|z|      [0.025      0.975]\n",
            "--------------------------------------------------------------------------------\n",
            "const            0.1380      0.083      1.668      0.096      -0.024       0.300\n",
            "sentiment     2.179e-05      0.004      0.005      0.996      -0.009       0.009\n",
            "ar.L1.Close2     0.0146      0.027      0.547      0.584      -0.038       0.067\n",
            "ma.L1.Close2     1.0000      0.003    330.403      0.000       0.994       1.006\n",
            "                                    Roots                                    \n",
            "=============================================================================\n",
            "                 Real           Imaginary           Modulus         Frequency\n",
            "-----------------------------------------------------------------------------\n",
            "AR.1           68.5391           +0.0000j           68.5391            0.0000\n",
            "MA.1           -1.0000           +0.0000j            1.0000            0.5000\n",
            "-----------------------------------------------------------------------------\n"
          ],
          "name": "stdout"
        },
        {
          "output_type": "stream",
          "text": [
            "/usr/local/lib/python3.6/dist-packages/statsmodels/tsa/kalmanf/kalmanfilter.py:650: FutureWarning: Conversion of the second argument of issubdtype from `complex` to `np.complexfloating` is deprecated. In future, it will be treated as `np.complex128 == np.dtype(complex).type`.\n",
            "  elif issubdtype(paramsdtype, complex):\n",
            "/usr/local/lib/python3.6/dist-packages/statsmodels/tsa/kalmanf/kalmanfilter.py:577: FutureWarning: Conversion of the second argument of issubdtype from `float` to `np.floating` is deprecated. In future, it will be treated as `np.float64 == np.dtype(float).type`.\n",
            "  if issubdtype(paramsdtype, float):\n"
          ],
          "name": "stderr"
        },
        {
          "output_type": "execute_result",
          "data": {
            "text/plain": [
              "22.427922040063095"
            ]
          },
          "metadata": {
            "tags": []
          },
          "execution_count": 27
        }
      ]
    },
    {
      "metadata": {
        "id": "owprYP8-zg5p",
        "colab_type": "text"
      },
      "cell_type": "markdown",
      "source": [
        "**Supervised learning **\n",
        "Transforming the data to fit a supervised model"
      ]
    },
    {
      "metadata": {
        "id": "gv0EgkELYICU",
        "colab_type": "code",
        "outputId": "b18bd204-24ea-4b81-e252-242e558c9c6e",
        "colab": {
          "base_uri": "https://localhost:8080/",
          "height": 51
        }
      },
      "cell_type": "code",
      "source": [
        "\n",
        "from keras.models import Sequential\n",
        "from keras.layers import LSTM\n",
        "from keras.layers import Dense\n",
        "from keras.layers import Flatten\n",
        "from keras.layers import TimeDistributed\n",
        "from keras.layers.convolutional import Conv1D\n",
        "from keras.layers.convolutional import MaxPooling1D\n",
        "from keras.layers import ConvLSTM2D\n",
        "from keras.layers import Bidirectional\n",
        "from numpy import hstack\n",
        "from numpy import array\n",
        "from sklearn.preprocessing import MinMaxScaler\n",
        "\n",
        "scaler = MinMaxScaler(feature_range=(0, 1), copy=True)\n",
        "\n",
        "\n",
        "Datatrain1=pd.DataFrame()\n",
        "Datatrain1['Close'] = [x for x in Datatrain['Close2']]\n",
        "Datatrain1['Sentiment'] = [x for x in Datatrain['sentiment']]\n",
        "Y = Datatrain1['Close'].shift(-1)\n",
        "Y.fillna(0,inplace=True)\n",
        "Y= Y.reshape((len(Y), 1))\n",
        "\n",
        "\n",
        "\n",
        "X1=array(Datatrain1['Close'])\n",
        "X2=array(Datatrain1['Sentiment'])\n",
        "\n",
        "X1 = X1.reshape((len(X1), 1))\n",
        "X2 = X2.reshape((len(X2), 1))\n",
        "\n",
        "\n",
        "X = hstack((X1, X2))\n",
        "X = X.reshape(X.shape[0], 1, X.shape[1])\n",
        "\n",
        "\n",
        "Datatest1=pd.DataFrame()\n",
        "\n",
        "Datatest1['Close'] = [x for x in Datatest['Close2']]\n",
        "Datatest1['Sentiment'] = [x for x in Datatest['sentiment']]\n",
        "\n",
        "\n",
        "Xtest1=array(Datatest1['Close'])\n",
        "Xtest2=array(Datatest1['Sentiment'])\n",
        "\n",
        "Xtest1 = Xtest1.reshape((len(Xtest1), 1))\n",
        "Xtest2 = Xtest2.reshape((len(Xtest2), 1))\n",
        "\n",
        "\n",
        "Xtest = hstack((Xtest1, Xtest2))\n",
        "Xtest = Xtest.reshape(Xtest.shape[0], 1, Xtest.shape[1])\n",
        "\n",
        "Ytest= Datatest1['Close'].shift(-1)\n",
        "Ytest.fillna(0,inplace=True)\n",
        "Ytest= Ytest.reshape((len(Ytest), 1))"
      ],
      "execution_count": 90,
      "outputs": [
        {
          "output_type": "stream",
          "text": [
            "/usr/local/lib/python3.6/dist-packages/ipykernel_launcher.py:23: FutureWarning: reshape is deprecated and will raise in a subsequent release. Please use .values.reshape(...) instead\n",
            "/usr/local/lib/python3.6/dist-packages/ipykernel_launcher.py:56: FutureWarning: reshape is deprecated and will raise in a subsequent release. Please use .values.reshape(...) instead\n"
          ],
          "name": "stderr"
        }
      ]
    },
    {
      "metadata": {
        "id": "WoOFpz8WE4cr",
        "colab_type": "code",
        "colab": {}
      },
      "cell_type": "code",
      "source": [
        "n_steps=1\n",
        "n_features=2\n",
        "\n",
        "# define model\n",
        "model1 = Sequential()\n",
        "model1.add(LSTM(50, activation='relu', input_shape=(n_steps, n_features)))\n",
        "model1.add(Dense(1))\n",
        "model1.compile(optimizer='adam', loss='mse')\n",
        "\n",
        "\n",
        "model2 = Sequential()\n",
        "model2.add(LSTM(50, activation='relu', return_sequences=True, input_shape=(n_steps, n_features)))\n",
        "model2.add(LSTM(50, activation='relu'))\n",
        "model2.add(Dense(1))\n",
        "model2.compile(optimizer='adam', loss='mse')\n",
        "\n",
        "\n",
        "model3 = Sequential()\n",
        "model3.add(Bidirectional(LSTM(50, activation='relu'), input_shape=(n_steps, n_features)))\n",
        "model3.add(Dense(1))\n",
        "model3.compile(optimizer='adam', loss='mse')\n",
        "\n",
        "\n",
        "\n"
      ],
      "execution_count": 0,
      "outputs": []
    },
    {
      "metadata": {
        "id": "8ZcZnJO4IDJq",
        "colab_type": "code",
        "outputId": "c76ca056-f229-488f-ff68-1bca69b73801",
        "colab": {
          "base_uri": "https://localhost:8080/",
          "height": 10356
        }
      },
      "cell_type": "code",
      "source": [
        "model1.fit(\n",
        "    X,\n",
        "    Y,\n",
        "    batch_size=10,\n",
        "    nb_epoch=100)\n",
        "model2.fit(\n",
        "    X,\n",
        "    Y,\n",
        "    batch_size=10,\n",
        "    nb_epoch=100)\n",
        "model3.fit(\n",
        "    X,\n",
        "    Y,\n",
        "    batch_size=10,\n",
        "    nb_epoch=100)\n"
      ],
      "execution_count": 89,
      "outputs": [
        {
          "output_type": "stream",
          "text": [
            "Epoch 1/100\n",
            " 470/1409 [=========>....................] - ETA: 0s - loss: 3.5501"
          ],
          "name": "stdout"
        },
        {
          "output_type": "stream",
          "text": [
            "/usr/local/lib/python3.6/dist-packages/ipykernel_launcher.py:5: UserWarning: The `nb_epoch` argument in `fit` has been renamed `epochs`.\n",
            "  \"\"\"\n"
          ],
          "name": "stderr"
        },
        {
          "output_type": "stream",
          "text": [
            "1409/1409 [==============================] - 0s 336us/step - loss: 3.5771\n",
            "Epoch 2/100\n",
            "1409/1409 [==============================] - 1s 363us/step - loss: 3.5752\n",
            "Epoch 3/100\n",
            "1409/1409 [==============================] - 0s 350us/step - loss: 3.5763\n",
            "Epoch 4/100\n",
            "1409/1409 [==============================] - 0s 339us/step - loss: 3.5794\n",
            "Epoch 5/100\n",
            "1409/1409 [==============================] - 0s 319us/step - loss: 3.5827\n",
            "Epoch 6/100\n",
            "1409/1409 [==============================] - 0s 305us/step - loss: 3.5762\n",
            "Epoch 7/100\n",
            "1409/1409 [==============================] - 0s 313us/step - loss: 3.5752\n",
            "Epoch 8/100\n",
            "1409/1409 [==============================] - 0s 298us/step - loss: 3.5716\n",
            "Epoch 9/100\n",
            "1409/1409 [==============================] - 0s 289us/step - loss: 3.5770\n",
            "Epoch 10/100\n",
            "1409/1409 [==============================] - 0s 316us/step - loss: 3.5685\n",
            "Epoch 11/100\n",
            "1409/1409 [==============================] - 0s 291us/step - loss: 3.5736\n",
            "Epoch 12/100\n",
            "1409/1409 [==============================] - 0s 297us/step - loss: 3.5772\n",
            "Epoch 13/100\n",
            "1409/1409 [==============================] - 0s 303us/step - loss: 3.5785\n",
            "Epoch 14/100\n",
            "1409/1409 [==============================] - 0s 308us/step - loss: 3.5703\n",
            "Epoch 15/100\n",
            "1409/1409 [==============================] - 0s 296us/step - loss: 3.5733\n",
            "Epoch 16/100\n",
            "1409/1409 [==============================] - 0s 301us/step - loss: 3.5761\n",
            "Epoch 17/100\n",
            "1409/1409 [==============================] - 0s 320us/step - loss: 3.5718\n",
            "Epoch 18/100\n",
            "1409/1409 [==============================] - 0s 308us/step - loss: 3.5780\n",
            "Epoch 19/100\n",
            "1409/1409 [==============================] - 0s 312us/step - loss: 3.5723\n",
            "Epoch 20/100\n",
            "1409/1409 [==============================] - 0s 311us/step - loss: 3.5831\n",
            "Epoch 21/100\n",
            "1409/1409 [==============================] - 0s 314us/step - loss: 3.5752\n",
            "Epoch 22/100\n",
            "1409/1409 [==============================] - 0s 301us/step - loss: 3.5703\n",
            "Epoch 23/100\n",
            "1409/1409 [==============================] - 0s 308us/step - loss: 3.5665\n",
            "Epoch 24/100\n",
            "1409/1409 [==============================] - 0s 312us/step - loss: 3.5743\n",
            "Epoch 25/100\n",
            "1409/1409 [==============================] - 0s 306us/step - loss: 3.5724\n",
            "Epoch 26/100\n",
            "1409/1409 [==============================] - 0s 313us/step - loss: 3.5759\n",
            "Epoch 27/100\n",
            "1409/1409 [==============================] - 0s 293us/step - loss: 3.5732\n",
            "Epoch 28/100\n",
            "1409/1409 [==============================] - 0s 298us/step - loss: 3.5715\n",
            "Epoch 29/100\n",
            "1409/1409 [==============================] - 0s 285us/step - loss: 3.5740\n",
            "Epoch 30/100\n",
            "1409/1409 [==============================] - 0s 299us/step - loss: 3.5704\n",
            "Epoch 31/100\n",
            "1409/1409 [==============================] - 0s 317us/step - loss: 3.5680\n",
            "Epoch 32/100\n",
            "1409/1409 [==============================] - 0s 283us/step - loss: 3.5739\n",
            "Epoch 33/100\n",
            "1409/1409 [==============================] - 0s 305us/step - loss: 3.5642\n",
            "Epoch 34/100\n",
            "1409/1409 [==============================] - 0s 294us/step - loss: 3.5676\n",
            "Epoch 35/100\n",
            "1409/1409 [==============================] - 0s 291us/step - loss: 3.5782\n",
            "Epoch 36/100\n",
            "1409/1409 [==============================] - 0s 289us/step - loss: 3.5664\n",
            "Epoch 37/100\n",
            "1409/1409 [==============================] - 0s 303us/step - loss: 3.5685\n",
            "Epoch 38/100\n",
            "1409/1409 [==============================] - 0s 316us/step - loss: 3.5686\n",
            "Epoch 39/100\n",
            "1409/1409 [==============================] - 0s 291us/step - loss: 3.5721\n",
            "Epoch 40/100\n",
            "1409/1409 [==============================] - 0s 294us/step - loss: 3.5680\n",
            "Epoch 41/100\n",
            "1409/1409 [==============================] - 0s 273us/step - loss: 3.5719\n",
            "Epoch 42/100\n",
            "1409/1409 [==============================] - 0s 285us/step - loss: 3.5674\n",
            "Epoch 43/100\n",
            "1409/1409 [==============================] - 0s 291us/step - loss: 3.5672\n",
            "Epoch 44/100\n",
            "1409/1409 [==============================] - 0s 291us/step - loss: 3.5662\n",
            "Epoch 45/100\n",
            "1409/1409 [==============================] - 0s 282us/step - loss: 3.5661\n",
            "Epoch 46/100\n",
            "1409/1409 [==============================] - 0s 278us/step - loss: 3.5648\n",
            "Epoch 47/100\n",
            "1409/1409 [==============================] - 0s 288us/step - loss: 3.5619\n",
            "Epoch 48/100\n",
            "1409/1409 [==============================] - 0s 287us/step - loss: 3.5635\n",
            "Epoch 49/100\n",
            "1409/1409 [==============================] - 0s 292us/step - loss: 3.5612\n",
            "Epoch 50/100\n",
            "1409/1409 [==============================] - 0s 274us/step - loss: 3.5649\n",
            "Epoch 51/100\n",
            "1409/1409 [==============================] - 0s 276us/step - loss: 3.5667\n",
            "Epoch 52/100\n",
            "1409/1409 [==============================] - 0s 287us/step - loss: 3.5652\n",
            "Epoch 53/100\n",
            "1409/1409 [==============================] - 0s 304us/step - loss: 3.5640\n",
            "Epoch 54/100\n",
            "1409/1409 [==============================] - 0s 280us/step - loss: 3.5611\n",
            "Epoch 55/100\n",
            "1409/1409 [==============================] - 0s 289us/step - loss: 3.5617\n",
            "Epoch 56/100\n",
            "1409/1409 [==============================] - 0s 286us/step - loss: 3.5641\n",
            "Epoch 57/100\n",
            "1409/1409 [==============================] - 0s 312us/step - loss: 3.5616\n",
            "Epoch 58/100\n",
            "1409/1409 [==============================] - 0s 303us/step - loss: 3.5683\n",
            "Epoch 59/100\n",
            "1409/1409 [==============================] - 0s 312us/step - loss: 3.5627\n",
            "Epoch 60/100\n",
            "1409/1409 [==============================] - 0s 291us/step - loss: 3.5595\n",
            "Epoch 61/100\n",
            "1409/1409 [==============================] - 0s 291us/step - loss: 3.5585\n",
            "Epoch 62/100\n",
            "1409/1409 [==============================] - 0s 305us/step - loss: 3.5695\n",
            "Epoch 63/100\n",
            "1409/1409 [==============================] - 0s 299us/step - loss: 3.5575\n",
            "Epoch 64/100\n",
            "1409/1409 [==============================] - 0s 286us/step - loss: 3.5591\n",
            "Epoch 65/100\n",
            "1409/1409 [==============================] - 0s 274us/step - loss: 3.5620\n",
            "Epoch 66/100\n",
            "1409/1409 [==============================] - 0s 273us/step - loss: 3.5636\n",
            "Epoch 67/100\n",
            "1409/1409 [==============================] - 0s 283us/step - loss: 3.5604\n",
            "Epoch 68/100\n",
            "1409/1409 [==============================] - 0s 287us/step - loss: 3.5641\n",
            "Epoch 69/100\n",
            "1409/1409 [==============================] - 0s 290us/step - loss: 3.5625\n",
            "Epoch 70/100\n",
            "1409/1409 [==============================] - 0s 287us/step - loss: 3.5637\n",
            "Epoch 71/100\n",
            "1409/1409 [==============================] - 0s 296us/step - loss: 3.5606\n",
            "Epoch 72/100\n",
            "1409/1409 [==============================] - 0s 303us/step - loss: 3.5596\n",
            "Epoch 73/100\n",
            "1409/1409 [==============================] - 0s 271us/step - loss: 3.5570\n",
            "Epoch 74/100\n",
            "1409/1409 [==============================] - 0s 279us/step - loss: 3.5617\n",
            "Epoch 75/100\n",
            "1409/1409 [==============================] - 0s 288us/step - loss: 3.5543\n",
            "Epoch 76/100\n",
            "1409/1409 [==============================] - 0s 286us/step - loss: 3.5557\n",
            "Epoch 77/100\n",
            "1409/1409 [==============================] - 0s 288us/step - loss: 3.5575\n",
            "Epoch 78/100\n",
            "1409/1409 [==============================] - 0s 280us/step - loss: 3.5618\n",
            "Epoch 79/100\n",
            "1409/1409 [==============================] - 0s 278us/step - loss: 3.5577\n",
            "Epoch 80/100\n",
            "1409/1409 [==============================] - 0s 284us/step - loss: 3.5521\n",
            "Epoch 81/100\n",
            "1409/1409 [==============================] - 0s 288us/step - loss: 3.5596\n",
            "Epoch 82/100\n",
            "1409/1409 [==============================] - 0s 299us/step - loss: 3.5617\n",
            "Epoch 83/100\n",
            "1409/1409 [==============================] - 0s 281us/step - loss: 3.5601\n",
            "Epoch 84/100\n",
            "1409/1409 [==============================] - 0s 310us/step - loss: 3.5536\n",
            "Epoch 85/100\n",
            "1409/1409 [==============================] - 0s 311us/step - loss: 3.5639\n",
            "Epoch 86/100\n",
            "1409/1409 [==============================] - 0s 298us/step - loss: 3.5564\n",
            "Epoch 87/100\n",
            "1409/1409 [==============================] - 0s 289us/step - loss: 3.5571\n",
            "Epoch 88/100\n",
            "1409/1409 [==============================] - 0s 301us/step - loss: 3.5567\n",
            "Epoch 89/100\n",
            "1409/1409 [==============================] - 0s 299us/step - loss: 3.5587\n",
            "Epoch 90/100\n",
            "1409/1409 [==============================] - 0s 308us/step - loss: 3.5499\n",
            "Epoch 91/100\n",
            "1409/1409 [==============================] - 0s 305us/step - loss: 3.5597\n",
            "Epoch 92/100\n",
            "1409/1409 [==============================] - 0s 310us/step - loss: 3.5591\n",
            "Epoch 93/100\n",
            "1409/1409 [==============================] - 0s 302us/step - loss: 3.5592\n",
            "Epoch 94/100\n",
            "1409/1409 [==============================] - 0s 302us/step - loss: 3.5552\n",
            "Epoch 95/100\n",
            "1409/1409 [==============================] - 0s 284us/step - loss: 3.5520\n",
            "Epoch 96/100\n",
            "1409/1409 [==============================] - 0s 284us/step - loss: 3.5507\n",
            "Epoch 97/100\n",
            "1409/1409 [==============================] - 0s 288us/step - loss: 3.5532\n",
            "Epoch 98/100\n",
            "1409/1409 [==============================] - 0s 313us/step - loss: 3.5574\n",
            "Epoch 99/100\n",
            "1409/1409 [==============================] - 0s 292us/step - loss: 3.5510\n",
            "Epoch 100/100\n",
            "1409/1409 [==============================] - 0s 288us/step - loss: 3.5508\n"
          ],
          "name": "stdout"
        },
        {
          "output_type": "stream",
          "text": [
            "/usr/local/lib/python3.6/dist-packages/ipykernel_launcher.py:10: UserWarning: The `nb_epoch` argument in `fit` has been renamed `epochs`.\n",
            "  # Remove the CWD from sys.path while we load stuff.\n"
          ],
          "name": "stderr"
        },
        {
          "output_type": "stream",
          "text": [
            "Epoch 1/100\n",
            "1409/1409 [==============================] - 6s 4ms/step - loss: 4.4236\n",
            "Epoch 2/100\n",
            "1409/1409 [==============================] - 1s 537us/step - loss: 3.7631\n",
            "Epoch 3/100\n",
            "1409/1409 [==============================] - 1s 525us/step - loss: 3.6983\n",
            "Epoch 4/100\n",
            "1409/1409 [==============================] - 1s 514us/step - loss: 3.6758\n",
            "Epoch 5/100\n",
            "1409/1409 [==============================] - 1s 542us/step - loss: 3.6595\n",
            "Epoch 6/100\n",
            "1409/1409 [==============================] - 1s 524us/step - loss: 3.6584\n",
            "Epoch 7/100\n",
            "1409/1409 [==============================] - 1s 520us/step - loss: 3.6379\n",
            "Epoch 8/100\n",
            "1409/1409 [==============================] - 1s 471us/step - loss: 3.6368\n",
            "Epoch 9/100\n",
            "1409/1409 [==============================] - 1s 485us/step - loss: 3.6273\n",
            "Epoch 10/100\n",
            "1409/1409 [==============================] - 1s 490us/step - loss: 3.6351\n",
            "Epoch 11/100\n",
            "1409/1409 [==============================] - 1s 491us/step - loss: 3.6317\n",
            "Epoch 12/100\n",
            "1409/1409 [==============================] - 1s 510us/step - loss: 3.6190\n",
            "Epoch 13/100\n",
            "1409/1409 [==============================] - 1s 533us/step - loss: 3.6269\n",
            "Epoch 14/100\n",
            "1409/1409 [==============================] - 1s 538us/step - loss: 3.6265\n",
            "Epoch 15/100\n",
            "1409/1409 [==============================] - 1s 515us/step - loss: 3.6262\n",
            "Epoch 16/100\n",
            "1409/1409 [==============================] - 1s 546us/step - loss: 3.6202\n",
            "Epoch 17/100\n",
            "1409/1409 [==============================] - 1s 515us/step - loss: 3.6217\n",
            "Epoch 18/100\n",
            "1409/1409 [==============================] - 1s 497us/step - loss: 3.6219\n",
            "Epoch 19/100\n",
            "1409/1409 [==============================] - 1s 473us/step - loss: 3.6298\n",
            "Epoch 20/100\n",
            "1409/1409 [==============================] - 1s 493us/step - loss: 3.6192\n",
            "Epoch 21/100\n",
            "1409/1409 [==============================] - 1s 505us/step - loss: 3.6175\n",
            "Epoch 22/100\n",
            "1409/1409 [==============================] - 1s 536us/step - loss: 3.6202\n",
            "Epoch 23/100\n",
            "1409/1409 [==============================] - 1s 534us/step - loss: 3.6281\n",
            "Epoch 24/100\n",
            "1409/1409 [==============================] - 1s 522us/step - loss: 3.6184\n",
            "Epoch 25/100\n",
            "1409/1409 [==============================] - 1s 501us/step - loss: 3.6216\n",
            "Epoch 26/100\n",
            "1409/1409 [==============================] - 1s 483us/step - loss: 3.6201\n",
            "Epoch 27/100\n",
            "1409/1409 [==============================] - 1s 479us/step - loss: 3.6211\n",
            "Epoch 28/100\n",
            "1409/1409 [==============================] - 1s 477us/step - loss: 3.6125\n",
            "Epoch 29/100\n",
            "1409/1409 [==============================] - 1s 477us/step - loss: 3.6144\n",
            "Epoch 30/100\n",
            "1409/1409 [==============================] - 1s 469us/step - loss: 3.6147\n",
            "Epoch 31/100\n",
            "1409/1409 [==============================] - 1s 476us/step - loss: 3.6301\n",
            "Epoch 32/100\n",
            "1409/1409 [==============================] - 1s 493us/step - loss: 3.6161\n",
            "Epoch 33/100\n",
            "1409/1409 [==============================] - 1s 499us/step - loss: 3.6102\n",
            "Epoch 34/100\n",
            "1409/1409 [==============================] - 1s 494us/step - loss: 3.6346\n",
            "Epoch 35/100\n",
            "1409/1409 [==============================] - 1s 497us/step - loss: 3.6213\n",
            "Epoch 36/100\n",
            "1409/1409 [==============================] - 1s 503us/step - loss: 3.6154\n",
            "Epoch 37/100\n",
            "1409/1409 [==============================] - 1s 503us/step - loss: 3.6234\n",
            "Epoch 38/100\n",
            "1409/1409 [==============================] - 1s 510us/step - loss: 3.6083\n",
            "Epoch 39/100\n",
            "1409/1409 [==============================] - 1s 540us/step - loss: 3.6126\n",
            "Epoch 40/100\n",
            "1409/1409 [==============================] - 1s 550us/step - loss: 3.6092\n",
            "Epoch 41/100\n",
            "1409/1409 [==============================] - 1s 557us/step - loss: 3.6170\n",
            "Epoch 42/100\n",
            "1409/1409 [==============================] - 1s 553us/step - loss: 3.6078\n",
            "Epoch 43/100\n",
            "1409/1409 [==============================] - 1s 541us/step - loss: 3.6159\n",
            "Epoch 44/100\n",
            "1409/1409 [==============================] - 1s 542us/step - loss: 3.6157\n",
            "Epoch 45/100\n",
            "1409/1409 [==============================] - 1s 535us/step - loss: 3.6063\n",
            "Epoch 46/100\n",
            "1409/1409 [==============================] - 1s 516us/step - loss: 3.6073\n",
            "Epoch 47/100\n",
            "1409/1409 [==============================] - 1s 531us/step - loss: 3.6227\n",
            "Epoch 48/100\n",
            "1409/1409 [==============================] - 1s 518us/step - loss: 3.6072\n",
            "Epoch 49/100\n",
            "1409/1409 [==============================] - 1s 538us/step - loss: 3.6144\n",
            "Epoch 50/100\n",
            "1409/1409 [==============================] - 1s 521us/step - loss: 3.6136\n",
            "Epoch 51/100\n",
            "1409/1409 [==============================] - 1s 515us/step - loss: 3.6170\n",
            "Epoch 52/100\n",
            "1409/1409 [==============================] - 1s 522us/step - loss: 3.6077\n",
            "Epoch 53/100\n",
            "1409/1409 [==============================] - 1s 508us/step - loss: 3.6104\n",
            "Epoch 54/100\n",
            "1409/1409 [==============================] - 1s 506us/step - loss: 3.6013\n",
            "Epoch 55/100\n",
            "1409/1409 [==============================] - 1s 513us/step - loss: 3.6106\n",
            "Epoch 56/100\n",
            "1409/1409 [==============================] - 1s 529us/step - loss: 3.6051\n",
            "Epoch 57/100\n",
            "1409/1409 [==============================] - 1s 539us/step - loss: 3.6085\n",
            "Epoch 58/100\n",
            "1409/1409 [==============================] - 1s 508us/step - loss: 3.5929\n",
            "Epoch 59/100\n",
            "1409/1409 [==============================] - 1s 528us/step - loss: 3.6035\n",
            "Epoch 60/100\n",
            "1409/1409 [==============================] - 1s 513us/step - loss: 3.5992\n",
            "Epoch 61/100\n",
            "1409/1409 [==============================] - 1s 512us/step - loss: 3.6113\n",
            "Epoch 62/100\n",
            "1409/1409 [==============================] - 1s 510us/step - loss: 3.6121\n",
            "Epoch 63/100\n",
            "1409/1409 [==============================] - 1s 529us/step - loss: 3.6058\n",
            "Epoch 64/100\n",
            "1409/1409 [==============================] - 1s 519us/step - loss: 3.6156\n",
            "Epoch 65/100\n",
            "1409/1409 [==============================] - 1s 544us/step - loss: 3.6118\n",
            "Epoch 66/100\n",
            "1409/1409 [==============================] - 1s 527us/step - loss: 3.5940\n",
            "Epoch 67/100\n",
            "1409/1409 [==============================] - 1s 527us/step - loss: 3.6132\n",
            "Epoch 68/100\n",
            "1409/1409 [==============================] - 1s 530us/step - loss: 3.6064\n",
            "Epoch 69/100\n",
            "1409/1409 [==============================] - 1s 522us/step - loss: 3.6075\n",
            "Epoch 70/100\n",
            "1409/1409 [==============================] - 1s 534us/step - loss: 3.5882\n",
            "Epoch 71/100\n",
            "1409/1409 [==============================] - 1s 522us/step - loss: 3.6201\n",
            "Epoch 72/100\n",
            "1409/1409 [==============================] - 1s 525us/step - loss: 3.6096\n",
            "Epoch 73/100\n",
            "1409/1409 [==============================] - 1s 512us/step - loss: 3.5949\n",
            "Epoch 74/100\n",
            "1409/1409 [==============================] - 1s 519us/step - loss: 3.5924\n",
            "Epoch 75/100\n",
            "1409/1409 [==============================] - 1s 529us/step - loss: 3.5980\n",
            "Epoch 76/100\n",
            "1409/1409 [==============================] - 1s 538us/step - loss: 3.6062\n",
            "Epoch 77/100\n",
            "1409/1409 [==============================] - 1s 523us/step - loss: 3.5979\n",
            "Epoch 78/100\n",
            "1409/1409 [==============================] - 1s 542us/step - loss: 3.5929\n",
            "Epoch 79/100\n",
            "1409/1409 [==============================] - 1s 566us/step - loss: 3.6008\n",
            "Epoch 80/100\n",
            "1409/1409 [==============================] - 1s 553us/step - loss: 3.6044\n",
            "Epoch 81/100\n",
            "1409/1409 [==============================] - 1s 560us/step - loss: 3.5995\n",
            "Epoch 82/100\n",
            "1409/1409 [==============================] - 1s 532us/step - loss: 3.5991\n",
            "Epoch 83/100\n",
            "1409/1409 [==============================] - 1s 536us/step - loss: 3.6050\n",
            "Epoch 84/100\n",
            "1409/1409 [==============================] - 1s 535us/step - loss: 3.5920\n",
            "Epoch 85/100\n",
            "1409/1409 [==============================] - 1s 538us/step - loss: 3.6014\n",
            "Epoch 86/100\n",
            "1409/1409 [==============================] - 1s 525us/step - loss: 3.5891\n",
            "Epoch 87/100\n",
            "1409/1409 [==============================] - 1s 536us/step - loss: 3.6020\n",
            "Epoch 88/100\n",
            "1409/1409 [==============================] - 1s 522us/step - loss: 3.6009\n",
            "Epoch 89/100\n",
            "1409/1409 [==============================] - 1s 539us/step - loss: 3.5937\n",
            "Epoch 90/100\n",
            "1409/1409 [==============================] - 1s 555us/step - loss: 3.6031\n",
            "Epoch 91/100\n",
            "1409/1409 [==============================] - 1s 562us/step - loss: 3.5925\n",
            "Epoch 92/100\n",
            "1409/1409 [==============================] - 1s 546us/step - loss: 3.6052\n",
            "Epoch 93/100\n",
            "1409/1409 [==============================] - 1s 551us/step - loss: 3.5920\n",
            "Epoch 94/100\n",
            "1409/1409 [==============================] - 1s 543us/step - loss: 3.5995\n",
            "Epoch 95/100\n",
            "1409/1409 [==============================] - 1s 527us/step - loss: 3.5988\n",
            "Epoch 96/100\n",
            "1409/1409 [==============================] - 1s 543us/step - loss: 3.5915\n",
            "Epoch 97/100\n",
            "1409/1409 [==============================] - 1s 543us/step - loss: 3.5902\n",
            "Epoch 98/100\n",
            "1409/1409 [==============================] - 1s 528us/step - loss: 3.5919\n",
            "Epoch 99/100\n",
            "1409/1409 [==============================] - 1s 523us/step - loss: 3.5919\n",
            "Epoch 100/100\n",
            "1409/1409 [==============================] - 1s 516us/step - loss: 3.5972\n"
          ],
          "name": "stdout"
        },
        {
          "output_type": "stream",
          "text": [
            "/usr/local/lib/python3.6/dist-packages/ipykernel_launcher.py:15: UserWarning: The `nb_epoch` argument in `fit` has been renamed `epochs`.\n",
            "  from ipykernel import kernelapp as app\n"
          ],
          "name": "stderr"
        },
        {
          "output_type": "stream",
          "text": [
            "Epoch 1/100\n",
            "1409/1409 [==============================] - 6s 4ms/step - loss: 4.1119\n",
            "Epoch 2/100\n",
            "1409/1409 [==============================] - 1s 479us/step - loss: 3.7112\n",
            "Epoch 3/100\n",
            "1409/1409 [==============================] - 1s 503us/step - loss: 3.6454\n",
            "Epoch 4/100\n",
            "1409/1409 [==============================] - 1s 501us/step - loss: 3.6484\n",
            "Epoch 5/100\n",
            "1409/1409 [==============================] - 1s 502us/step - loss: 3.6303\n",
            "Epoch 6/100\n",
            "1409/1409 [==============================] - 1s 482us/step - loss: 3.6300\n",
            "Epoch 7/100\n",
            "1409/1409 [==============================] - 1s 486us/step - loss: 3.6279\n",
            "Epoch 8/100\n",
            "1409/1409 [==============================] - 1s 486us/step - loss: 3.6279\n",
            "Epoch 9/100\n",
            "1409/1409 [==============================] - 1s 485us/step - loss: 3.6299\n",
            "Epoch 10/100\n",
            "1409/1409 [==============================] - 1s 489us/step - loss: 3.6319\n",
            "Epoch 11/100\n",
            "1409/1409 [==============================] - 1s 497us/step - loss: 3.6155\n",
            "Epoch 12/100\n",
            "1409/1409 [==============================] - 1s 492us/step - loss: 3.6220\n",
            "Epoch 13/100\n",
            "1409/1409 [==============================] - 1s 472us/step - loss: 3.6240\n",
            "Epoch 14/100\n",
            "1409/1409 [==============================] - 1s 479us/step - loss: 3.6171\n",
            "Epoch 15/100\n",
            "1409/1409 [==============================] - 1s 450us/step - loss: 3.6159\n",
            "Epoch 16/100\n",
            "1409/1409 [==============================] - 1s 463us/step - loss: 3.6209\n",
            "Epoch 17/100\n",
            "1409/1409 [==============================] - 1s 439us/step - loss: 3.6143\n",
            "Epoch 18/100\n",
            "1409/1409 [==============================] - 1s 467us/step - loss: 3.6188\n",
            "Epoch 19/100\n",
            "1409/1409 [==============================] - 1s 471us/step - loss: 3.6232\n",
            "Epoch 20/100\n",
            "1409/1409 [==============================] - 1s 479us/step - loss: 3.6261\n",
            "Epoch 21/100\n",
            "1409/1409 [==============================] - 1s 458us/step - loss: 3.6145\n",
            "Epoch 22/100\n",
            "1409/1409 [==============================] - 1s 464us/step - loss: 3.6292\n",
            "Epoch 23/100\n",
            "1409/1409 [==============================] - 1s 469us/step - loss: 3.6160\n",
            "Epoch 24/100\n",
            "1409/1409 [==============================] - 1s 447us/step - loss: 3.6156\n",
            "Epoch 25/100\n",
            "1409/1409 [==============================] - 1s 456us/step - loss: 3.6168\n",
            "Epoch 26/100\n",
            "1409/1409 [==============================] - 1s 443us/step - loss: 3.6133\n",
            "Epoch 27/100\n",
            "1409/1409 [==============================] - 1s 459us/step - loss: 3.6101\n",
            "Epoch 28/100\n",
            "1409/1409 [==============================] - 1s 442us/step - loss: 3.6114\n",
            "Epoch 29/100\n",
            "1409/1409 [==============================] - 1s 441us/step - loss: 3.6111\n",
            "Epoch 30/100\n",
            "1409/1409 [==============================] - 1s 445us/step - loss: 3.6091\n",
            "Epoch 31/100\n",
            "1409/1409 [==============================] - 1s 459us/step - loss: 3.6134\n",
            "Epoch 32/100\n",
            "1409/1409 [==============================] - 1s 451us/step - loss: 3.6081\n",
            "Epoch 33/100\n",
            "1409/1409 [==============================] - 1s 444us/step - loss: 3.6124\n",
            "Epoch 34/100\n",
            "1409/1409 [==============================] - 1s 461us/step - loss: 3.6142\n",
            "Epoch 35/100\n",
            "1409/1409 [==============================] - 1s 446us/step - loss: 3.6041\n",
            "Epoch 36/100\n",
            "1409/1409 [==============================] - 1s 448us/step - loss: 3.6069\n",
            "Epoch 37/100\n",
            "1409/1409 [==============================] - 1s 461us/step - loss: 3.6092\n",
            "Epoch 38/100\n",
            "1409/1409 [==============================] - 1s 462us/step - loss: 3.6061\n",
            "Epoch 39/100\n",
            "1409/1409 [==============================] - 1s 467us/step - loss: 3.6103\n",
            "Epoch 40/100\n",
            "1409/1409 [==============================] - 1s 467us/step - loss: 3.6108\n",
            "Epoch 41/100\n",
            "1409/1409 [==============================] - 1s 476us/step - loss: 3.6054\n",
            "Epoch 42/100\n",
            "1409/1409 [==============================] - 1s 464us/step - loss: 3.6036\n",
            "Epoch 43/100\n",
            "1409/1409 [==============================] - 1s 476us/step - loss: 3.6049\n",
            "Epoch 44/100\n",
            "1409/1409 [==============================] - 1s 446us/step - loss: 3.6117\n",
            "Epoch 45/100\n",
            "1409/1409 [==============================] - 1s 453us/step - loss: 3.6125\n",
            "Epoch 46/100\n",
            "1409/1409 [==============================] - 1s 464us/step - loss: 3.5995\n",
            "Epoch 47/100\n",
            "1409/1409 [==============================] - 1s 491us/step - loss: 3.6034\n",
            "Epoch 48/100\n",
            "1409/1409 [==============================] - 1s 460us/step - loss: 3.6049\n",
            "Epoch 49/100\n",
            "1409/1409 [==============================] - 1s 463us/step - loss: 3.5996\n",
            "Epoch 50/100\n",
            "1409/1409 [==============================] - 1s 475us/step - loss: 3.5999\n",
            "Epoch 51/100\n",
            "1409/1409 [==============================] - 1s 469us/step - loss: 3.6066\n",
            "Epoch 52/100\n",
            "1409/1409 [==============================] - 1s 470us/step - loss: 3.5992\n",
            "Epoch 53/100\n",
            "1409/1409 [==============================] - 1s 458us/step - loss: 3.6007\n",
            "Epoch 54/100\n",
            "1409/1409 [==============================] - 1s 468us/step - loss: 3.6027\n",
            "Epoch 55/100\n",
            "1409/1409 [==============================] - 1s 476us/step - loss: 3.6016\n",
            "Epoch 56/100\n",
            "1409/1409 [==============================] - 1s 474us/step - loss: 3.5945\n",
            "Epoch 57/100\n",
            "1409/1409 [==============================] - 1s 469us/step - loss: 3.5958\n",
            "Epoch 58/100\n",
            "1409/1409 [==============================] - 1s 476us/step - loss: 3.5967\n",
            "Epoch 59/100\n",
            "1409/1409 [==============================] - 1s 475us/step - loss: 3.5958\n",
            "Epoch 60/100\n",
            "1409/1409 [==============================] - 1s 473us/step - loss: 3.5994\n",
            "Epoch 61/100\n",
            "1409/1409 [==============================] - 1s 458us/step - loss: 3.5954\n",
            "Epoch 62/100\n",
            "1409/1409 [==============================] - 1s 449us/step - loss: 3.5894\n",
            "Epoch 63/100\n",
            "1409/1409 [==============================] - 1s 471us/step - loss: 3.5962\n",
            "Epoch 64/100\n",
            "1409/1409 [==============================] - 1s 473us/step - loss: 3.5961\n",
            "Epoch 65/100\n",
            "1409/1409 [==============================] - 1s 489us/step - loss: 3.5909\n",
            "Epoch 66/100\n",
            "1409/1409 [==============================] - 1s 473us/step - loss: 3.5907\n",
            "Epoch 67/100\n",
            "1409/1409 [==============================] - 1s 466us/step - loss: 3.5874\n",
            "Epoch 68/100\n",
            "1409/1409 [==============================] - 1s 435us/step - loss: 3.5993\n",
            "Epoch 69/100\n",
            "1409/1409 [==============================] - 1s 466us/step - loss: 3.5917\n",
            "Epoch 70/100\n",
            "1409/1409 [==============================] - 1s 460us/step - loss: 3.5915\n",
            "Epoch 71/100\n",
            "1409/1409 [==============================] - 1s 463us/step - loss: 3.5947\n",
            "Epoch 72/100\n",
            "1409/1409 [==============================] - 1s 475us/step - loss: 3.5876\n",
            "Epoch 73/100\n",
            "1409/1409 [==============================] - 1s 485us/step - loss: 3.5915\n",
            "Epoch 74/100\n",
            "1409/1409 [==============================] - 1s 471us/step - loss: 3.5890\n",
            "Epoch 75/100\n",
            "1409/1409 [==============================] - 1s 464us/step - loss: 3.5901\n",
            "Epoch 76/100\n",
            "1409/1409 [==============================] - 1s 464us/step - loss: 3.5911\n",
            "Epoch 77/100\n",
            "1409/1409 [==============================] - 1s 454us/step - loss: 3.5858\n",
            "Epoch 78/100\n",
            "1409/1409 [==============================] - 1s 437us/step - loss: 3.5846\n",
            "Epoch 79/100\n",
            "1409/1409 [==============================] - 1s 466us/step - loss: 3.5874\n",
            "Epoch 80/100\n",
            "1409/1409 [==============================] - 1s 477us/step - loss: 3.5960\n",
            "Epoch 81/100\n",
            "1409/1409 [==============================] - 1s 480us/step - loss: 3.5822\n",
            "Epoch 82/100\n",
            "1409/1409 [==============================] - 1s 474us/step - loss: 3.5974\n",
            "Epoch 83/100\n",
            "1409/1409 [==============================] - 1s 475us/step - loss: 3.5851\n",
            "Epoch 84/100\n",
            "1409/1409 [==============================] - 1s 483us/step - loss: 3.5779\n",
            "Epoch 85/100\n",
            "1409/1409 [==============================] - 1s 472us/step - loss: 3.5872\n",
            "Epoch 86/100\n",
            "1409/1409 [==============================] - 1s 477us/step - loss: 3.5893\n",
            "Epoch 87/100\n",
            "1409/1409 [==============================] - 1s 476us/step - loss: 3.5830\n",
            "Epoch 88/100\n",
            "1409/1409 [==============================] - 1s 473us/step - loss: 3.5861\n",
            "Epoch 89/100\n",
            "1409/1409 [==============================] - 1s 474us/step - loss: 3.5836\n",
            "Epoch 90/100\n",
            "1409/1409 [==============================] - 1s 482us/step - loss: 3.5809\n",
            "Epoch 91/100\n",
            "1409/1409 [==============================] - 1s 474us/step - loss: 3.5859\n",
            "Epoch 92/100\n",
            "1409/1409 [==============================] - 1s 494us/step - loss: 3.5816\n",
            "Epoch 93/100\n",
            "1409/1409 [==============================] - 1s 470us/step - loss: 3.5885\n",
            "Epoch 94/100\n",
            "1409/1409 [==============================] - 1s 495us/step - loss: 3.5828\n",
            "Epoch 95/100\n",
            "1409/1409 [==============================] - 1s 473us/step - loss: 3.5795\n",
            "Epoch 96/100\n",
            "1409/1409 [==============================] - 1s 499us/step - loss: 3.5846\n",
            "Epoch 97/100\n",
            "1409/1409 [==============================] - 1s 498us/step - loss: 3.5803\n",
            "Epoch 98/100\n",
            "1409/1409 [==============================] - 1s 465us/step - loss: 3.5763\n",
            "Epoch 99/100\n",
            "1409/1409 [==============================] - 1s 470us/step - loss: 3.5803\n",
            "Epoch 100/100\n",
            "1409/1409 [==============================] - 1s 494us/step - loss: 3.5745\n"
          ],
          "name": "stdout"
        },
        {
          "output_type": "execute_result",
          "data": {
            "text/plain": [
              "<keras.callbacks.History at 0x7f4a544ede48>"
            ]
          },
          "metadata": {
            "tags": []
          },
          "execution_count": 89
        }
      ]
    },
    {
      "metadata": {
        "id": "TTkcjp8erWRJ",
        "colab_type": "code",
        "colab": {}
      },
      "cell_type": "code",
      "source": [
        "error1=mean_squared_error(model1.predict(Xtest),Ytest)\n",
        "error2=mean_squared_error(model2.predict(Xtest),Ytest)\n",
        "error3=mean_squared_error(model3.predict(Xtest),Ytest)\n"
      ],
      "execution_count": 0,
      "outputs": []
    },
    {
      "metadata": {
        "id": "Rb0ujaXgMSSa",
        "colab_type": "text"
      },
      "cell_type": "markdown",
      "source": [
        "The stacked LSTM gave the best results "
      ]
    },
    {
      "metadata": {
        "id": "5WHOvQQBB9HK",
        "colab_type": "code",
        "colab": {
          "base_uri": "https://localhost:8080/",
          "height": 34
        },
        "outputId": "1444f7d5-9133-49f4-bc93-7a156bf63814"
      },
      "cell_type": "code",
      "source": [
        "error2"
      ],
      "execution_count": 98,
      "outputs": [
        {
          "output_type": "execute_result",
          "data": {
            "text/plain": [
              "16.554237748981173"
            ]
          },
          "metadata": {
            "tags": []
          },
          "execution_count": 98
        }
      ]
    },
    {
      "metadata": {
        "id": "qiYKdAM6MZhY",
        "colab_type": "text"
      },
      "cell_type": "markdown",
      "source": [
        "XGboost Regressor"
      ]
    },
    {
      "metadata": {
        "id": "cWHdX4SlMdeF",
        "colab_type": "code",
        "colab": {
          "base_uri": "https://localhost:8080/",
          "height": 34
        },
        "outputId": "0fa99a3a-4424-4d36-a5c4-ce431b53850a"
      },
      "cell_type": "code",
      "source": [
        "from xgboost import XGBRegressor \n",
        "X = hstack((X1, X2))\n",
        "Xtest = hstack((Xtest1, Xtest2))\n",
        "model4 = XGBRegressor()\n",
        "model4.fit(X, Y)\n",
        "error4=mean_squared_error(model4.predict(Xtest),Ytest)\n",
        "error4"
      ],
      "execution_count": 103,
      "outputs": [
        {
          "output_type": "execute_result",
          "data": {
            "text/plain": [
              "17.33392106100126"
            ]
          },
          "metadata": {
            "tags": []
          },
          "execution_count": 103
        }
      ]
    }
  ]
}